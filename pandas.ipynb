{
  "nbformat": 4,
  "nbformat_minor": 0,
  "metadata": {
    "colab": {
      "name": "pandas.ipynb",
      "provenance": [],
      "collapsed_sections": [],
      "toc_visible": true,
      "authorship_tag": "ABX9TyNB2gbYKg13ruxLAX0I1GV+",
      "include_colab_link": true
    },
    "kernelspec": {
      "name": "python3",
      "display_name": "Python 3"
    }
  },
  "cells": [
    {
      "cell_type": "markdown",
      "metadata": {
        "id": "view-in-github",
        "colab_type": "text"
      },
      "source": [
        "<a href=\"https://colab.research.google.com/github/Oguzaltiner/deneme/blob/master/pandas.ipynb\" target=\"_parent\"><img src=\"https://colab.research.google.com/assets/colab-badge.svg\" alt=\"Open In Colab\"/></a>"
      ]
    },
    {
      "cell_type": "markdown",
      "metadata": {
        "id": "vwxVk6KEhaxg",
        "colab_type": "text"
      },
      "source": [
        "#Kütüphaneler\n",
        "GEREKLİ KÜTÜPHANELER EKLENDİ.\n"
      ]
    },
    {
      "cell_type": "code",
      "metadata": {
        "id": "Y8it4pJTo2cL",
        "colab_type": "code",
        "colab": {}
      },
      "source": [
        "import numpy as np \n",
        "import pandas as pd\n",
        "from numpy.random import randn"
      ],
      "execution_count": 0,
      "outputs": []
    },
    {
      "cell_type": "markdown",
      "metadata": {
        "id": "oTLYgi2Thyi8",
        "colab_type": "text"
      },
      "source": [
        "#SERİ OLUŞTURMA \n"
      ]
    },
    {
      "cell_type": "code",
      "metadata": {
        "id": "Gh8GTMAGp3wV",
        "colab_type": "code",
        "colab": {
          "base_uri": "https://localhost:8080/",
          "height": 124
        },
        "outputId": "9d7817a5-b7b0-4708-f393-5f60472f4911"
      },
      "source": [
        "\n",
        "Label_list = ['I','am','Learning','Data','Science' ]\n",
        "Data_list = [1,2,3,4,5]\n",
        "Pd_Series1 = pd.Series(Data_list,Label_list)\n",
        "print(Pd_Series1)\n"
      ],
      "execution_count": 3,
      "outputs": [
        {
          "output_type": "stream",
          "text": [
            "I           1\n",
            "am          2\n",
            "Learning    3\n",
            "Data        4\n",
            "Science     5\n",
            "dtype: int64\n"
          ],
          "name": "stdout"
        }
      ]
    },
    {
      "cell_type": "code",
      "metadata": {
        "id": "b1J0ZaKro2-E",
        "colab_type": "code",
        "colab": {}
      },
      "source": [
        "data  = np.array(['a','b','c','d'])\n",
        "Series  = pd.Series(data,[100,101,102,103])\n"
      ],
      "execution_count": 0,
      "outputs": []
    },
    {
      "cell_type": "code",
      "metadata": {
        "id": "LJfKfS7ZpzLx",
        "colab_type": "code",
        "outputId": "a7f5a20d-08b4-4a80-975c-f5770420dd45",
        "colab": {
          "base_uri": "https://localhost:8080/",
          "height": 70
        }
      },
      "source": [
        "DataDict = {'Michael_s exam result': 35,'Olivia_s exam result': 85 }\n",
        "A=pd.Series(DataDict)\n",
        "print(A)"
      ],
      "execution_count": 0,
      "outputs": [
        {
          "output_type": "stream",
          "text": [
            "Michael_s exam result    35\n",
            "Olivia_s exam result     85\n",
            "dtype: int64\n"
          ],
          "name": "stdout"
        }
      ]
    },
    {
      "cell_type": "code",
      "metadata": {
        "id": "f6_VBMD1qRqT",
        "colab_type": "code",
        "outputId": "d046a1ec-839c-40a0-b063-4367b73754d8",
        "colab": {
          "base_uri": "https://localhost:8080/",
          "height": 52
        }
      },
      "source": [
        "DataDict2 = {'Michael_s exam result': 44}\n",
        "B = pd.Series(DataDict2)\n",
        "print(B)"
      ],
      "execution_count": 0,
      "outputs": [
        {
          "output_type": "stream",
          "text": [
            "Michael_s exam result    44\n",
            "dtype: int64\n"
          ],
          "name": "stdout"
        }
      ]
    },
    {
      "cell_type": "code",
      "metadata": {
        "id": "t5DN5GazrCd7",
        "colab_type": "code",
        "outputId": "5ede47f0-90f8-42ad-a168-e7db7b0c0883",
        "colab": {
          "base_uri": "https://localhost:8080/",
          "height": 52
        }
      },
      "source": [
        "DataDict3 = {'Darth_Vader_s exam result' :99}\n",
        "C = pd.Series(DataDict3)\n",
        "print(C)"
      ],
      "execution_count": 0,
      "outputs": [
        {
          "output_type": "stream",
          "text": [
            "Darth_Vader_s exam result    99\n",
            "dtype: int64\n"
          ],
          "name": "stdout"
        }
      ]
    },
    {
      "cell_type": "markdown",
      "metadata": {
        "id": "1AtafEhGivVf",
        "colab_type": "text"
      },
      "source": [
        "C Değerine A değerini ekledik . "
      ]
    },
    {
      "cell_type": "code",
      "metadata": {
        "id": "uXABRD1DrPBX",
        "colab_type": "code",
        "colab": {}
      },
      "source": [
        "DataDict4 = C.append(A)"
      ],
      "execution_count": 0,
      "outputs": []
    },
    {
      "cell_type": "markdown",
      "metadata": {
        "id": "YVVjdzS_jBje",
        "colab_type": "text"
      },
      "source": [
        "#DataFrame oluşturma"
      ]
    },
    {
      "cell_type": "code",
      "metadata": {
        "id": "VU6XCEjwroaS",
        "colab_type": "code",
        "colab": {}
      },
      "source": [
        "\n",
        "df = pd.DataFrame(data=randn(5,5), index= ['A','B','C','D','E'], columns =['C1','C2','C3','C4','C5'])"
      ],
      "execution_count": 0,
      "outputs": []
    },
    {
      "cell_type": "code",
      "metadata": {
        "id": "ofEAplTJsDRh",
        "colab_type": "code",
        "outputId": "66179dc6-8c8f-4b31-d819-e8f0d1805a2f",
        "colab": {
          "base_uri": "https://localhost:8080/",
          "height": 124
        }
      },
      "source": [
        "print(df)"
      ],
      "execution_count": 7,
      "outputs": [
        {
          "output_type": "stream",
          "text": [
            "         C1        C2        C3        C4        C5\n",
            "A -0.675654  0.218769  1.988181  0.821131  0.506288\n",
            "B -0.200131  0.201463  0.696673  2.715557  0.788112\n",
            "C -0.355683 -0.051583  0.313034  0.466823 -1.144892\n",
            "D  0.383685  0.177036  0.203438  0.622645  0.602650\n",
            "E  0.073979  0.691840 -0.166630  0.984064 -0.875025\n"
          ],
          "name": "stdout"
        }
      ]
    },
    {
      "cell_type": "markdown",
      "metadata": {
        "id": "tRWMMIRUjQpj",
        "colab_type": "text"
      },
      "source": [
        "#İSTENİLEN SÜTÜNU ALMA"
      ]
    },
    {
      "cell_type": "code",
      "metadata": {
        "id": "FxLjOd0ssGHx",
        "colab_type": "code",
        "outputId": "5a2cb52d-b968-49c4-e19a-cf147e14bb4c",
        "colab": {
          "base_uri": "https://localhost:8080/",
          "height": 124
        }
      },
      "source": [
        "print(df['C1'])"
      ],
      "execution_count": 8,
      "outputs": [
        {
          "output_type": "stream",
          "text": [
            "A   -0.675654\n",
            "B   -0.200131\n",
            "C   -0.355683\n",
            "D    0.383685\n",
            "E    0.073979\n",
            "Name: C1, dtype: float64\n"
          ],
          "name": "stdout"
        }
      ]
    },
    {
      "cell_type": "markdown",
      "metadata": {
        "id": "kv6WGVt4j1EP",
        "colab_type": "text"
      },
      "source": [
        "#YENİ BİR SÜTUN EKLEME İŞLEMİ "
      ]
    },
    {
      "cell_type": "code",
      "metadata": {
        "id": "jI0_ooHms3UW",
        "colab_type": "code",
        "outputId": "ed638d25-b665-4e23-8086-3850f586af20",
        "colab": {
          "base_uri": "https://localhost:8080/",
          "height": 124
        }
      },
      "source": [
        "\n",
        "df['C6']=pd.Series(randn(5),['A','B','C','D','E'])\n",
        "print(df['C6'])"
      ],
      "execution_count": 9,
      "outputs": [
        {
          "output_type": "stream",
          "text": [
            "A   -2.673562\n",
            "B    0.050123\n",
            "C   -0.250105\n",
            "D   -1.053001\n",
            "E   -0.496758\n",
            "Name: C6, dtype: float64\n"
          ],
          "name": "stdout"
        }
      ]
    },
    {
      "cell_type": "code",
      "metadata": {
        "id": "nmEfdL3mtEL8",
        "colab_type": "code",
        "outputId": "662b95a2-b89b-425a-e514-a2ea3da04fa3",
        "colab": {
          "base_uri": "https://localhost:8080/",
          "height": 124
        }
      },
      "source": [
        "print(df)"
      ],
      "execution_count": 10,
      "outputs": [
        {
          "output_type": "stream",
          "text": [
            "         C1        C2        C3        C4        C5        C6\n",
            "A -0.675654  0.218769  1.988181  0.821131  0.506288 -2.673562\n",
            "B -0.200131  0.201463  0.696673  2.715557  0.788112  0.050123\n",
            "C -0.355683 -0.051583  0.313034  0.466823 -1.144892 -0.250105\n",
            "D  0.383685  0.177036  0.203438  0.622645  0.602650 -1.053001\n",
            "E  0.073979  0.691840 -0.166630  0.984064 -0.875025 -0.496758\n"
          ],
          "name": "stdout"
        }
      ]
    },
    {
      "cell_type": "markdown",
      "metadata": {
        "id": "5UWcpD8Cj5i8",
        "colab_type": "text"
      },
      "source": [
        "#SÜTÜN ÇIKARMA\n",
        " - axis default = 0 , 0 satırları 1 sütünları simgeler inplace kalıcı olup olmadığını belirler "
      ]
    },
    {
      "cell_type": "code",
      "metadata": {
        "id": "zLjTNg40tLoY",
        "colab_type": "code",
        "colab": {}
      },
      "source": [
        "\n",
        "df.drop('C2', axis = 1 , inplace=True)"
      ],
      "execution_count": 0,
      "outputs": []
    },
    {
      "cell_type": "markdown",
      "metadata": {
        "id": "pxo7BBh0j33Y",
        "colab_type": "text"
      },
      "source": [
        "- Colum değerini index başlığı olarak atandı "
      ]
    },
    {
      "cell_type": "code",
      "metadata": {
        "id": "RjbTIaaOtji7",
        "colab_type": "code",
        "colab": {}
      },
      "source": [
        "df.set_index('C5', inplace = True) "
      ],
      "execution_count": 0,
      "outputs": []
    },
    {
      "cell_type": "code",
      "metadata": {
        "id": "jkTvJXuCuDbh",
        "colab_type": "code",
        "outputId": "14fc488a-7440-41ec-c40c-de7a08a4eec7",
        "colab": {
          "base_uri": "https://localhost:8080/",
          "height": 35
        }
      },
      "source": [
        "print(df.index.names)"
      ],
      "execution_count": 0,
      "outputs": [
        {
          "output_type": "stream",
          "text": [
            "['C5']\n"
          ],
          "name": "stdout"
        }
      ]
    },
    {
      "cell_type": "code",
      "metadata": {
        "id": "SMfVmkZMuzqg",
        "colab_type": "code",
        "outputId": "e2315a9e-6aec-4db1-f033-e3e4da1e066a",
        "colab": {
          "base_uri": "https://localhost:8080/",
          "height": 35
        }
      },
      "source": [
        "print(df.columns.names)"
      ],
      "execution_count": 0,
      "outputs": [
        {
          "output_type": "stream",
          "text": [
            "[None]\n"
          ],
          "name": "stdout"
        }
      ]
    },
    {
      "cell_type": "markdown",
      "metadata": {
        "id": "Ah5V9uMNkWSJ",
        "colab_type": "text"
      },
      "source": [
        " - c satırını verir \n",
        " - sütün ismi belirtiyoruz "
      ]
    },
    {
      "cell_type": "code",
      "metadata": {
        "id": "etLcfXRUu6b4",
        "colab_type": "code",
        "outputId": "32876c26-531c-47a1-cebf-6059441feb00",
        "colab": {
          "base_uri": "https://localhost:8080/",
          "height": 124
        }
      },
      "source": [
        "df.loc['C'] "
      ],
      "execution_count": 0,
      "outputs": [
        {
          "output_type": "execute_result",
          "data": {
            "text/plain": [
              "C1   -0.224844\n",
              "C2    0.167652\n",
              "C3   -0.189800\n",
              "C4    0.601800\n",
              "C5    0.361836\n",
              "Name: C, dtype: float64"
            ]
          },
          "metadata": {
            "tags": []
          },
          "execution_count": 51
        }
      ]
    },
    {
      "cell_type": "markdown",
      "metadata": {
        "id": "tX0WpoMwkfn3",
        "colab_type": "text"
      },
      "source": [
        "- index belirtiyoruz"
      ]
    },
    {
      "cell_type": "code",
      "metadata": {
        "id": "h_6GGSBmvESy",
        "colab_type": "code",
        "outputId": "07fdb2f6-0965-4b2d-f4cf-caa70fb12e6c",
        "colab": {
          "base_uri": "https://localhost:8080/",
          "height": 124
        }
      },
      "source": [
        "df.iloc[0] "
      ],
      "execution_count": 0,
      "outputs": [
        {
          "output_type": "execute_result",
          "data": {
            "text/plain": [
              "C1   -0.890412\n",
              "C2    0.691380\n",
              "C3   -1.227523\n",
              "C4    0.462577\n",
              "C5   -0.491417\n",
              "Name: A, dtype: float64"
            ]
          },
          "metadata": {
            "tags": []
          },
          "execution_count": 52
        }
      ]
    },
    {
      "cell_type": "markdown",
      "metadata": {
        "id": "VOa99m5Ykl9i",
        "colab_type": "text"
      },
      "source": [
        "#İSTENİLEN NOKTADAKİ VERİYİ GÖSTERME"
      ]
    },
    {
      "cell_type": "code",
      "metadata": {
        "id": "sIfMyZBvvh_q",
        "colab_type": "code",
        "outputId": "15d32243-6986-48bd-cc7c-7f83179a0ccd",
        "colab": {
          "base_uri": "https://localhost:8080/",
          "height": 35
        }
      },
      "source": [
        "df.loc['A','C5']    "
      ],
      "execution_count": 12,
      "outputs": [
        {
          "output_type": "execute_result",
          "data": {
            "text/plain": [
              "0.5062882519229618"
            ]
          },
          "metadata": {
            "tags": []
          },
          "execution_count": 12
        }
      ]
    },
    {
      "cell_type": "markdown",
      "metadata": {
        "id": "E6w2bBiek0kZ",
        "colab_type": "text"
      },
      "source": [
        "#AND OR İŞLEMLERİ"
      ]
    },
    {
      "cell_type": "code",
      "metadata": {
        "id": "eCCFXvW3wIuP",
        "colab_type": "code",
        "outputId": "8a4af792-f463-4411-bb32-b70cf1804eea",
        "colab": {
          "base_uri": "https://localhost:8080/",
          "height": 230
        }
      },
      "source": [
        "df.loc[['A','C5'] and ['E','C5']]"
      ],
      "execution_count": 13,
      "outputs": [
        {
          "output_type": "stream",
          "text": [
            "/usr/local/lib/python3.6/dist-packages/ipykernel_launcher.py:1: FutureWarning: \n",
            "Passing list-likes to .loc or [] with any missing label will raise\n",
            "KeyError in the future, you can use .reindex() as an alternative.\n",
            "\n",
            "See the documentation here:\n",
            "https://pandas.pydata.org/pandas-docs/stable/user_guide/indexing.html#deprecate-loc-reindex-listlike\n",
            "  \"\"\"Entry point for launching an IPython kernel.\n"
          ],
          "name": "stderr"
        },
        {
          "output_type": "execute_result",
          "data": {
            "text/html": [
              "<div>\n",
              "<style scoped>\n",
              "    .dataframe tbody tr th:only-of-type {\n",
              "        vertical-align: middle;\n",
              "    }\n",
              "\n",
              "    .dataframe tbody tr th {\n",
              "        vertical-align: top;\n",
              "    }\n",
              "\n",
              "    .dataframe thead th {\n",
              "        text-align: right;\n",
              "    }\n",
              "</style>\n",
              "<table border=\"1\" class=\"dataframe\">\n",
              "  <thead>\n",
              "    <tr style=\"text-align: right;\">\n",
              "      <th></th>\n",
              "      <th>C1</th>\n",
              "      <th>C3</th>\n",
              "      <th>C4</th>\n",
              "      <th>C5</th>\n",
              "      <th>C6</th>\n",
              "    </tr>\n",
              "  </thead>\n",
              "  <tbody>\n",
              "    <tr>\n",
              "      <th>E</th>\n",
              "      <td>0.073979</td>\n",
              "      <td>-0.16663</td>\n",
              "      <td>0.984064</td>\n",
              "      <td>-0.875025</td>\n",
              "      <td>-0.496758</td>\n",
              "    </tr>\n",
              "    <tr>\n",
              "      <th>C5</th>\n",
              "      <td>NaN</td>\n",
              "      <td>NaN</td>\n",
              "      <td>NaN</td>\n",
              "      <td>NaN</td>\n",
              "      <td>NaN</td>\n",
              "    </tr>\n",
              "  </tbody>\n",
              "</table>\n",
              "</div>"
            ],
            "text/plain": [
              "          C1       C3        C4        C5        C6\n",
              "E   0.073979 -0.16663  0.984064 -0.875025 -0.496758\n",
              "C5       NaN      NaN       NaN       NaN       NaN"
            ]
          },
          "metadata": {
            "tags": []
          },
          "execution_count": 13
        }
      ]
    },
    {
      "cell_type": "markdown",
      "metadata": {
        "id": "g9naEMPXk7ur",
        "colab_type": "text"
      },
      "source": [
        "#BİRDEN FAZLA SÜTÜN VE SATIR ÇAĞIRMAK İÇİN"
      ]
    },
    {
      "cell_type": "code",
      "metadata": {
        "id": "kmlV1dMdwO3_",
        "colab_type": "code",
        "outputId": "e1c0f41a-5ae3-4c4c-eae3-156acc8460eb",
        "colab": {
          "base_uri": "https://localhost:8080/",
          "height": 230
        }
      },
      "source": [
        "\n",
        "df.loc[['A','D'],['C1','C2']]"
      ],
      "execution_count": 14,
      "outputs": [
        {
          "output_type": "stream",
          "text": [
            "/usr/local/lib/python3.6/dist-packages/pandas/core/indexing.py:1418: FutureWarning: \n",
            "Passing list-likes to .loc or [] with any missing label will raise\n",
            "KeyError in the future, you can use .reindex() as an alternative.\n",
            "\n",
            "See the documentation here:\n",
            "https://pandas.pydata.org/pandas-docs/stable/user_guide/indexing.html#deprecate-loc-reindex-listlike\n",
            "  return self._getitem_tuple(key)\n"
          ],
          "name": "stderr"
        },
        {
          "output_type": "execute_result",
          "data": {
            "text/html": [
              "<div>\n",
              "<style scoped>\n",
              "    .dataframe tbody tr th:only-of-type {\n",
              "        vertical-align: middle;\n",
              "    }\n",
              "\n",
              "    .dataframe tbody tr th {\n",
              "        vertical-align: top;\n",
              "    }\n",
              "\n",
              "    .dataframe thead th {\n",
              "        text-align: right;\n",
              "    }\n",
              "</style>\n",
              "<table border=\"1\" class=\"dataframe\">\n",
              "  <thead>\n",
              "    <tr style=\"text-align: right;\">\n",
              "      <th></th>\n",
              "      <th>C1</th>\n",
              "      <th>C2</th>\n",
              "    </tr>\n",
              "  </thead>\n",
              "  <tbody>\n",
              "    <tr>\n",
              "      <th>A</th>\n",
              "      <td>-0.675654</td>\n",
              "      <td>NaN</td>\n",
              "    </tr>\n",
              "    <tr>\n",
              "      <th>D</th>\n",
              "      <td>0.383685</td>\n",
              "      <td>NaN</td>\n",
              "    </tr>\n",
              "  </tbody>\n",
              "</table>\n",
              "</div>"
            ],
            "text/plain": [
              "         C1  C2\n",
              "A -0.675654 NaN\n",
              "D  0.383685 NaN"
            ]
          },
          "metadata": {
            "tags": []
          },
          "execution_count": 14
        }
      ]
    },
    {
      "cell_type": "code",
      "metadata": {
        "id": "osxJ9CqlwxDk",
        "colab_type": "code",
        "outputId": "ddfcc72d-0383-412f-d9be-be9b4c851bb9",
        "colab": {
          "base_uri": "https://localhost:8080/",
          "height": 194
        }
      },
      "source": [
        "df"
      ],
      "execution_count": 15,
      "outputs": [
        {
          "output_type": "execute_result",
          "data": {
            "text/html": [
              "<div>\n",
              "<style scoped>\n",
              "    .dataframe tbody tr th:only-of-type {\n",
              "        vertical-align: middle;\n",
              "    }\n",
              "\n",
              "    .dataframe tbody tr th {\n",
              "        vertical-align: top;\n",
              "    }\n",
              "\n",
              "    .dataframe thead th {\n",
              "        text-align: right;\n",
              "    }\n",
              "</style>\n",
              "<table border=\"1\" class=\"dataframe\">\n",
              "  <thead>\n",
              "    <tr style=\"text-align: right;\">\n",
              "      <th></th>\n",
              "      <th>C1</th>\n",
              "      <th>C3</th>\n",
              "      <th>C4</th>\n",
              "      <th>C5</th>\n",
              "      <th>C6</th>\n",
              "    </tr>\n",
              "  </thead>\n",
              "  <tbody>\n",
              "    <tr>\n",
              "      <th>A</th>\n",
              "      <td>-0.675654</td>\n",
              "      <td>1.988181</td>\n",
              "      <td>0.821131</td>\n",
              "      <td>0.506288</td>\n",
              "      <td>-2.673562</td>\n",
              "    </tr>\n",
              "    <tr>\n",
              "      <th>B</th>\n",
              "      <td>-0.200131</td>\n",
              "      <td>0.696673</td>\n",
              "      <td>2.715557</td>\n",
              "      <td>0.788112</td>\n",
              "      <td>0.050123</td>\n",
              "    </tr>\n",
              "    <tr>\n",
              "      <th>C</th>\n",
              "      <td>-0.355683</td>\n",
              "      <td>0.313034</td>\n",
              "      <td>0.466823</td>\n",
              "      <td>-1.144892</td>\n",
              "      <td>-0.250105</td>\n",
              "    </tr>\n",
              "    <tr>\n",
              "      <th>D</th>\n",
              "      <td>0.383685</td>\n",
              "      <td>0.203438</td>\n",
              "      <td>0.622645</td>\n",
              "      <td>0.602650</td>\n",
              "      <td>-1.053001</td>\n",
              "    </tr>\n",
              "    <tr>\n",
              "      <th>E</th>\n",
              "      <td>0.073979</td>\n",
              "      <td>-0.166630</td>\n",
              "      <td>0.984064</td>\n",
              "      <td>-0.875025</td>\n",
              "      <td>-0.496758</td>\n",
              "    </tr>\n",
              "  </tbody>\n",
              "</table>\n",
              "</div>"
            ],
            "text/plain": [
              "         C1        C3        C4        C5        C6\n",
              "A -0.675654  1.988181  0.821131  0.506288 -2.673562\n",
              "B -0.200131  0.696673  2.715557  0.788112  0.050123\n",
              "C -0.355683  0.313034  0.466823 -1.144892 -0.250105\n",
              "D  0.383685  0.203438  0.622645  0.602650 -1.053001\n",
              "E  0.073979 -0.166630  0.984064 -0.875025 -0.496758"
            ]
          },
          "metadata": {
            "tags": []
          },
          "execution_count": 15
        }
      ]
    },
    {
      "cell_type": "markdown",
      "metadata": {
        "id": "p0dkiCSwlB45",
        "colab_type": "text"
      },
      "source": [
        ""
      ]
    },
    {
      "cell_type": "markdown",
      "metadata": {
        "id": "HGytEHnXlB9F",
        "colab_type": "text"
      },
      "source": [
        "#Filtreleme işlemleri\n",
        "- 0.2 den büyükler true"
      ]
    },
    {
      "cell_type": "code",
      "metadata": {
        "id": "jj69fsXCxfdc",
        "colab_type": "code",
        "outputId": "cbb21e0a-be56-4e40-e9ef-1bd7ae78f96c",
        "colab": {
          "base_uri": "https://localhost:8080/",
          "height": 194
        }
      },
      "source": [
        "df > 0.2           "
      ],
      "execution_count": 16,
      "outputs": [
        {
          "output_type": "execute_result",
          "data": {
            "text/html": [
              "<div>\n",
              "<style scoped>\n",
              "    .dataframe tbody tr th:only-of-type {\n",
              "        vertical-align: middle;\n",
              "    }\n",
              "\n",
              "    .dataframe tbody tr th {\n",
              "        vertical-align: top;\n",
              "    }\n",
              "\n",
              "    .dataframe thead th {\n",
              "        text-align: right;\n",
              "    }\n",
              "</style>\n",
              "<table border=\"1\" class=\"dataframe\">\n",
              "  <thead>\n",
              "    <tr style=\"text-align: right;\">\n",
              "      <th></th>\n",
              "      <th>C1</th>\n",
              "      <th>C3</th>\n",
              "      <th>C4</th>\n",
              "      <th>C5</th>\n",
              "      <th>C6</th>\n",
              "    </tr>\n",
              "  </thead>\n",
              "  <tbody>\n",
              "    <tr>\n",
              "      <th>A</th>\n",
              "      <td>False</td>\n",
              "      <td>True</td>\n",
              "      <td>True</td>\n",
              "      <td>True</td>\n",
              "      <td>False</td>\n",
              "    </tr>\n",
              "    <tr>\n",
              "      <th>B</th>\n",
              "      <td>False</td>\n",
              "      <td>True</td>\n",
              "      <td>True</td>\n",
              "      <td>True</td>\n",
              "      <td>False</td>\n",
              "    </tr>\n",
              "    <tr>\n",
              "      <th>C</th>\n",
              "      <td>False</td>\n",
              "      <td>True</td>\n",
              "      <td>True</td>\n",
              "      <td>False</td>\n",
              "      <td>False</td>\n",
              "    </tr>\n",
              "    <tr>\n",
              "      <th>D</th>\n",
              "      <td>True</td>\n",
              "      <td>True</td>\n",
              "      <td>True</td>\n",
              "      <td>True</td>\n",
              "      <td>False</td>\n",
              "    </tr>\n",
              "    <tr>\n",
              "      <th>E</th>\n",
              "      <td>False</td>\n",
              "      <td>False</td>\n",
              "      <td>True</td>\n",
              "      <td>False</td>\n",
              "      <td>False</td>\n",
              "    </tr>\n",
              "  </tbody>\n",
              "</table>\n",
              "</div>"
            ],
            "text/plain": [
              "      C1     C3    C4     C5     C6\n",
              "A  False   True  True   True  False\n",
              "B  False   True  True   True  False\n",
              "C  False   True  True  False  False\n",
              "D   True   True  True   True  False\n",
              "E  False  False  True  False  False"
            ]
          },
          "metadata": {
            "tags": []
          },
          "execution_count": 16
        }
      ]
    },
    {
      "cell_type": "markdown",
      "metadata": {
        "id": "zS3uBJsdlBQc",
        "colab_type": "text"
      },
      "source": [
        "- Sıfır dan büyükler yazıyor diğerleri NAN YANİ FALSE "
      ]
    },
    {
      "cell_type": "code",
      "metadata": {
        "id": "VVlZJonnxyIK",
        "colab_type": "code",
        "outputId": "d3025eac-c890-45c9-f1a2-5b4b08550456",
        "colab": {
          "base_uri": "https://localhost:8080/",
          "height": 194
        }
      },
      "source": [
        "booleanDf= df > 0       \n",
        "df[booleanDf]"
      ],
      "execution_count": 0,
      "outputs": [
        {
          "output_type": "execute_result",
          "data": {
            "text/html": [
              "<div>\n",
              "<style scoped>\n",
              "    .dataframe tbody tr th:only-of-type {\n",
              "        vertical-align: middle;\n",
              "    }\n",
              "\n",
              "    .dataframe tbody tr th {\n",
              "        vertical-align: top;\n",
              "    }\n",
              "\n",
              "    .dataframe thead th {\n",
              "        text-align: right;\n",
              "    }\n",
              "</style>\n",
              "<table border=\"1\" class=\"dataframe\">\n",
              "  <thead>\n",
              "    <tr style=\"text-align: right;\">\n",
              "      <th></th>\n",
              "      <th>C1</th>\n",
              "      <th>C2</th>\n",
              "      <th>C3</th>\n",
              "      <th>C4</th>\n",
              "      <th>C5</th>\n",
              "    </tr>\n",
              "  </thead>\n",
              "  <tbody>\n",
              "    <tr>\n",
              "      <th>A</th>\n",
              "      <td>NaN</td>\n",
              "      <td>0.691380</td>\n",
              "      <td>NaN</td>\n",
              "      <td>0.462577</td>\n",
              "      <td>NaN</td>\n",
              "    </tr>\n",
              "    <tr>\n",
              "      <th>B</th>\n",
              "      <td>1.459509</td>\n",
              "      <td>2.379048</td>\n",
              "      <td>0.380137</td>\n",
              "      <td>NaN</td>\n",
              "      <td>NaN</td>\n",
              "    </tr>\n",
              "    <tr>\n",
              "      <th>C</th>\n",
              "      <td>NaN</td>\n",
              "      <td>0.167652</td>\n",
              "      <td>NaN</td>\n",
              "      <td>0.601800</td>\n",
              "      <td>0.361836</td>\n",
              "    </tr>\n",
              "    <tr>\n",
              "      <th>D</th>\n",
              "      <td>NaN</td>\n",
              "      <td>NaN</td>\n",
              "      <td>0.476316</td>\n",
              "      <td>0.000822</td>\n",
              "      <td>NaN</td>\n",
              "    </tr>\n",
              "    <tr>\n",
              "      <th>E</th>\n",
              "      <td>1.003489</td>\n",
              "      <td>NaN</td>\n",
              "      <td>NaN</td>\n",
              "      <td>NaN</td>\n",
              "      <td>NaN</td>\n",
              "    </tr>\n",
              "  </tbody>\n",
              "</table>\n",
              "</div>"
            ],
            "text/plain": [
              "         C1        C2        C3        C4        C5\n",
              "A       NaN  0.691380       NaN  0.462577       NaN\n",
              "B  1.459509  2.379048  0.380137       NaN       NaN\n",
              "C       NaN  0.167652       NaN  0.601800  0.361836\n",
              "D       NaN       NaN  0.476316  0.000822       NaN\n",
              "E  1.003489       NaN       NaN       NaN       NaN"
            ]
          },
          "metadata": {
            "tags": []
          },
          "execution_count": 62
        }
      ]
    },
    {
      "cell_type": "code",
      "metadata": {
        "id": "pGyp8ODox03m",
        "colab_type": "code",
        "outputId": "5f36a610-9928-493a-ea00-e9ac6a3fc164",
        "colab": {
          "base_uri": "https://localhost:8080/",
          "height": 194
        }
      },
      "source": [
        "df[df > 0.5]"
      ],
      "execution_count": 0,
      "outputs": [
        {
          "output_type": "execute_result",
          "data": {
            "text/html": [
              "<div>\n",
              "<style scoped>\n",
              "    .dataframe tbody tr th:only-of-type {\n",
              "        vertical-align: middle;\n",
              "    }\n",
              "\n",
              "    .dataframe tbody tr th {\n",
              "        vertical-align: top;\n",
              "    }\n",
              "\n",
              "    .dataframe thead th {\n",
              "        text-align: right;\n",
              "    }\n",
              "</style>\n",
              "<table border=\"1\" class=\"dataframe\">\n",
              "  <thead>\n",
              "    <tr style=\"text-align: right;\">\n",
              "      <th></th>\n",
              "      <th>C1</th>\n",
              "      <th>C2</th>\n",
              "      <th>C3</th>\n",
              "      <th>C4</th>\n",
              "      <th>C5</th>\n",
              "    </tr>\n",
              "  </thead>\n",
              "  <tbody>\n",
              "    <tr>\n",
              "      <th>A</th>\n",
              "      <td>NaN</td>\n",
              "      <td>0.691380</td>\n",
              "      <td>NaN</td>\n",
              "      <td>NaN</td>\n",
              "      <td>NaN</td>\n",
              "    </tr>\n",
              "    <tr>\n",
              "      <th>B</th>\n",
              "      <td>1.459509</td>\n",
              "      <td>2.379048</td>\n",
              "      <td>NaN</td>\n",
              "      <td>NaN</td>\n",
              "      <td>NaN</td>\n",
              "    </tr>\n",
              "    <tr>\n",
              "      <th>C</th>\n",
              "      <td>NaN</td>\n",
              "      <td>NaN</td>\n",
              "      <td>NaN</td>\n",
              "      <td>0.6018</td>\n",
              "      <td>NaN</td>\n",
              "    </tr>\n",
              "    <tr>\n",
              "      <th>D</th>\n",
              "      <td>NaN</td>\n",
              "      <td>NaN</td>\n",
              "      <td>NaN</td>\n",
              "      <td>NaN</td>\n",
              "      <td>NaN</td>\n",
              "    </tr>\n",
              "    <tr>\n",
              "      <th>E</th>\n",
              "      <td>1.003489</td>\n",
              "      <td>NaN</td>\n",
              "      <td>NaN</td>\n",
              "      <td>NaN</td>\n",
              "      <td>NaN</td>\n",
              "    </tr>\n",
              "  </tbody>\n",
              "</table>\n",
              "</div>"
            ],
            "text/plain": [
              "         C1        C2  C3      C4  C5\n",
              "A       NaN  0.691380 NaN     NaN NaN\n",
              "B  1.459509  2.379048 NaN     NaN NaN\n",
              "C       NaN       NaN NaN  0.6018 NaN\n",
              "D       NaN       NaN NaN     NaN NaN\n",
              "E  1.003489       NaN NaN     NaN NaN"
            ]
          },
          "metadata": {
            "tags": []
          },
          "execution_count": 63
        }
      ]
    },
    {
      "cell_type": "code",
      "metadata": {
        "id": "mzNh7bjcyHqg",
        "colab_type": "code",
        "outputId": "1e1cc354-8386-4d5f-de9a-ba893099ac35",
        "colab": {
          "base_uri": "https://localhost:8080/",
          "height": 124
        }
      },
      "source": [
        "df['C1']>0"
      ],
      "execution_count": 0,
      "outputs": [
        {
          "output_type": "execute_result",
          "data": {
            "text/plain": [
              "A    False\n",
              "B     True\n",
              "C    False\n",
              "D    False\n",
              "E     True\n",
              "Name: C1, dtype: bool"
            ]
          },
          "metadata": {
            "tags": []
          },
          "execution_count": 64
        }
      ]
    },
    {
      "cell_type": "code",
      "metadata": {
        "id": "AYKVqfmDyKf1",
        "colab_type": "code",
        "outputId": "74aabe42-65ff-409d-814b-4586d5a13339",
        "colab": {
          "base_uri": "https://localhost:8080/",
          "height": 106
        }
      },
      "source": [
        "df[(df['C1']>0) | (df['C5']>1)]"
      ],
      "execution_count": 0,
      "outputs": [
        {
          "output_type": "execute_result",
          "data": {
            "text/html": [
              "<div>\n",
              "<style scoped>\n",
              "    .dataframe tbody tr th:only-of-type {\n",
              "        vertical-align: middle;\n",
              "    }\n",
              "\n",
              "    .dataframe tbody tr th {\n",
              "        vertical-align: top;\n",
              "    }\n",
              "\n",
              "    .dataframe thead th {\n",
              "        text-align: right;\n",
              "    }\n",
              "</style>\n",
              "<table border=\"1\" class=\"dataframe\">\n",
              "  <thead>\n",
              "    <tr style=\"text-align: right;\">\n",
              "      <th></th>\n",
              "      <th>C1</th>\n",
              "      <th>C2</th>\n",
              "      <th>C3</th>\n",
              "      <th>C4</th>\n",
              "      <th>C5</th>\n",
              "    </tr>\n",
              "  </thead>\n",
              "  <tbody>\n",
              "    <tr>\n",
              "      <th>B</th>\n",
              "      <td>1.459509</td>\n",
              "      <td>2.379048</td>\n",
              "      <td>0.380137</td>\n",
              "      <td>-0.057548</td>\n",
              "      <td>-1.063365</td>\n",
              "    </tr>\n",
              "    <tr>\n",
              "      <th>E</th>\n",
              "      <td>1.003489</td>\n",
              "      <td>-0.336429</td>\n",
              "      <td>-2.323571</td>\n",
              "      <td>-0.395640</td>\n",
              "      <td>-0.116108</td>\n",
              "    </tr>\n",
              "  </tbody>\n",
              "</table>\n",
              "</div>"
            ],
            "text/plain": [
              "         C1        C2        C3        C4        C5\n",
              "B  1.459509  2.379048  0.380137 -0.057548 -1.063365\n",
              "E  1.003489 -0.336429 -2.323571 -0.395640 -0.116108"
            ]
          },
          "metadata": {
            "tags": []
          },
          "execution_count": 65
        }
      ]
    },
    {
      "cell_type": "code",
      "metadata": {
        "id": "iGqvP2UvylUy",
        "colab_type": "code",
        "outputId": "4378e505-45f7-4ad8-880b-bfec182f41ea",
        "colab": {
          "base_uri": "https://localhost:8080/",
          "height": 194
        }
      },
      "source": [
        "df"
      ],
      "execution_count": 0,
      "outputs": [
        {
          "output_type": "execute_result",
          "data": {
            "text/html": [
              "<div>\n",
              "<style scoped>\n",
              "    .dataframe tbody tr th:only-of-type {\n",
              "        vertical-align: middle;\n",
              "    }\n",
              "\n",
              "    .dataframe tbody tr th {\n",
              "        vertical-align: top;\n",
              "    }\n",
              "\n",
              "    .dataframe thead th {\n",
              "        text-align: right;\n",
              "    }\n",
              "</style>\n",
              "<table border=\"1\" class=\"dataframe\">\n",
              "  <thead>\n",
              "    <tr style=\"text-align: right;\">\n",
              "      <th></th>\n",
              "      <th>C1</th>\n",
              "      <th>C2</th>\n",
              "      <th>C3</th>\n",
              "      <th>C4</th>\n",
              "      <th>C5</th>\n",
              "      <th>C6</th>\n",
              "    </tr>\n",
              "  </thead>\n",
              "  <tbody>\n",
              "    <tr>\n",
              "      <th>A</th>\n",
              "      <td>-0.890412</td>\n",
              "      <td>0.691380</td>\n",
              "      <td>-1.227523</td>\n",
              "      <td>0.462577</td>\n",
              "      <td>-0.491417</td>\n",
              "      <td>NewValue1</td>\n",
              "    </tr>\n",
              "    <tr>\n",
              "      <th>B</th>\n",
              "      <td>1.459509</td>\n",
              "      <td>2.379048</td>\n",
              "      <td>0.380137</td>\n",
              "      <td>-0.057548</td>\n",
              "      <td>-1.063365</td>\n",
              "      <td>NewValue2</td>\n",
              "    </tr>\n",
              "    <tr>\n",
              "      <th>C</th>\n",
              "      <td>-0.224844</td>\n",
              "      <td>0.167652</td>\n",
              "      <td>-0.189800</td>\n",
              "      <td>0.601800</td>\n",
              "      <td>0.361836</td>\n",
              "      <td>NewValue3</td>\n",
              "    </tr>\n",
              "    <tr>\n",
              "      <th>D</th>\n",
              "      <td>-0.574353</td>\n",
              "      <td>-0.440891</td>\n",
              "      <td>0.476316</td>\n",
              "      <td>0.000822</td>\n",
              "      <td>-0.011415</td>\n",
              "      <td>NewValue4</td>\n",
              "    </tr>\n",
              "    <tr>\n",
              "      <th>E</th>\n",
              "      <td>1.003489</td>\n",
              "      <td>-0.336429</td>\n",
              "      <td>-2.323571</td>\n",
              "      <td>-0.395640</td>\n",
              "      <td>-0.116108</td>\n",
              "      <td>NewValue5</td>\n",
              "    </tr>\n",
              "  </tbody>\n",
              "</table>\n",
              "</div>"
            ],
            "text/plain": [
              "         C1        C2        C3        C4        C5         C6\n",
              "A -0.890412  0.691380 -1.227523  0.462577 -0.491417  NewValue1\n",
              "B  1.459509  2.379048  0.380137 -0.057548 -1.063365  NewValue2\n",
              "C -0.224844  0.167652 -0.189800  0.601800  0.361836  NewValue3\n",
              "D -0.574353 -0.440891  0.476316  0.000822 -0.011415  NewValue4\n",
              "E  1.003489 -0.336429 -2.323571 -0.395640 -0.116108  NewValue5"
            ]
          },
          "metadata": {
            "tags": []
          },
          "execution_count": 68
        }
      ]
    },
    {
      "cell_type": "markdown",
      "metadata": {
        "id": "jmYeqgaBlUTO",
        "colab_type": "text"
      },
      "source": [
        "#YENİ SÜTÜN OLUŞTURMA"
      ]
    },
    {
      "cell_type": "code",
      "metadata": {
        "id": "6_qWQ0xeyqCQ",
        "colab_type": "code",
        "colab": {}
      },
      "source": [
        "df['C6'] = ['NewValue1','NewValue2','NewValue3','NewValue4','NewValue5']"
      ],
      "execution_count": 0,
      "outputs": []
    },
    {
      "cell_type": "markdown",
      "metadata": {
        "id": "X-l1dGrxlSJr",
        "colab_type": "text"
      },
      "source": [
        "#DataFramelerin Multi İndex Olarak Tanımlanması\n",
        "- 2 adet index oluşturup zip fonksiyonu ile birleştirdik"
      ]
    },
    {
      "cell_type": "code",
      "metadata": {
        "id": "Uxwfu9B_y-Or",
        "colab_type": "code",
        "outputId": "c66a9608-44e9-4db1-e0d6-548868cc4ffb",
        "colab": {
          "base_uri": "https://localhost:8080/",
          "height": 177
        }
      },
      "source": [
        "OuterIndex = ['Group1','Group1','Group1','Group2','Group2','Group2','Group3','Group3','Group3']\n",
        "InnerIndex = ['Index1','Index2','Index3','Index1','Index2','Index3','Index1','Index2','Index3']\n",
        "list(zip(OuterIndex,InnerIndex))"
      ],
      "execution_count": 18,
      "outputs": [
        {
          "output_type": "execute_result",
          "data": {
            "text/plain": [
              "[('Group1', 'Index1'),\n",
              " ('Group1', 'Index2'),\n",
              " ('Group1', 'Index3'),\n",
              " ('Group2', 'Index1'),\n",
              " ('Group2', 'Index2'),\n",
              " ('Group2', 'Index3'),\n",
              " ('Group3', 'Index1'),\n",
              " ('Group3', 'Index2'),\n",
              " ('Group3', 'Index3')]"
            ]
          },
          "metadata": {
            "tags": []
          },
          "execution_count": 18
        }
      ]
    },
    {
      "cell_type": "code",
      "metadata": {
        "id": "FHaxcPdMzJZ5",
        "colab_type": "code",
        "outputId": "d7e3ce4b-2827-4d99-8106-40f362d5f0d1",
        "colab": {
          "base_uri": "https://localhost:8080/",
          "height": 195
        }
      },
      "source": [
        "hierarchy = list(zip(OuterIndex,InnerIndex))\n",
        "hierarchy = pd.MultiIndex.from_tuples(hierarchy)\n",
        "print(hierarchy)"
      ],
      "execution_count": 19,
      "outputs": [
        {
          "output_type": "stream",
          "text": [
            "MultiIndex([('Group1', 'Index1'),\n",
            "            ('Group1', 'Index2'),\n",
            "            ('Group1', 'Index3'),\n",
            "            ('Group2', 'Index1'),\n",
            "            ('Group2', 'Index2'),\n",
            "            ('Group2', 'Index3'),\n",
            "            ('Group3', 'Index1'),\n",
            "            ('Group3', 'Index2'),\n",
            "            ('Group3', 'Index3')],\n",
            "           )\n"
          ],
          "name": "stdout"
        }
      ]
    },
    {
      "cell_type": "code",
      "metadata": {
        "id": "mJHBIq4HzVJV",
        "colab_type": "code",
        "outputId": "703662b7-103a-4d93-b419-46123dc42378",
        "colab": {
          "base_uri": "https://localhost:8080/",
          "height": 195
        }
      },
      "source": [
        "df =  pd.DataFrame(randn(9,3),hierarchy,columns=['C1','C2','C3'])\n",
        "print(df)"
      ],
      "execution_count": 20,
      "outputs": [
        {
          "output_type": "stream",
          "text": [
            "                     C1        C2        C3\n",
            "Group1 Index1 -0.193253  1.243209 -0.931974\n",
            "       Index2 -1.287746  1.177815 -0.475188\n",
            "       Index3 -0.251880  1.276781 -0.394155\n",
            "Group2 Index1  0.383124  0.095019  0.484719\n",
            "       Index2  1.026296 -0.541663  0.765632\n",
            "       Index3 -0.775513  0.567422  0.333031\n",
            "Group3 Index1 -0.647898 -0.366212 -2.179599\n",
            "       Index2  1.875444  1.650499  0.710533\n",
            "       Index3 -0.019086  1.070055  0.269462\n"
          ],
          "name": "stdout"
        }
      ]
    },
    {
      "cell_type": "code",
      "metadata": {
        "id": "_hEjW5VRzm0H",
        "colab_type": "code",
        "outputId": "17456d38-c4a9-45d8-f0b0-f7abe20c40d2",
        "colab": {
          "base_uri": "https://localhost:8080/",
          "height": 223
        }
      },
      "source": [
        "df.loc[['Group1','Group2']]"
      ],
      "execution_count": 0,
      "outputs": [
        {
          "output_type": "execute_result",
          "data": {
            "text/html": [
              "<div>\n",
              "<style scoped>\n",
              "    .dataframe tbody tr th:only-of-type {\n",
              "        vertical-align: middle;\n",
              "    }\n",
              "\n",
              "    .dataframe tbody tr th {\n",
              "        vertical-align: top;\n",
              "    }\n",
              "\n",
              "    .dataframe thead th {\n",
              "        text-align: right;\n",
              "    }\n",
              "</style>\n",
              "<table border=\"1\" class=\"dataframe\">\n",
              "  <thead>\n",
              "    <tr style=\"text-align: right;\">\n",
              "      <th></th>\n",
              "      <th></th>\n",
              "      <th>C1</th>\n",
              "      <th>C2</th>\n",
              "      <th>C3</th>\n",
              "    </tr>\n",
              "  </thead>\n",
              "  <tbody>\n",
              "    <tr>\n",
              "      <th rowspan=\"3\" valign=\"top\">Group1</th>\n",
              "      <th>Index1</th>\n",
              "      <td>-0.637148</td>\n",
              "      <td>-1.131355</td>\n",
              "      <td>-0.065861</td>\n",
              "    </tr>\n",
              "    <tr>\n",
              "      <th>Index2</th>\n",
              "      <td>0.287420</td>\n",
              "      <td>0.423742</td>\n",
              "      <td>0.114334</td>\n",
              "    </tr>\n",
              "    <tr>\n",
              "      <th>Index3</th>\n",
              "      <td>-0.323098</td>\n",
              "      <td>-0.568315</td>\n",
              "      <td>0.787315</td>\n",
              "    </tr>\n",
              "    <tr>\n",
              "      <th rowspan=\"3\" valign=\"top\">Group2</th>\n",
              "      <th>Index1</th>\n",
              "      <td>1.055753</td>\n",
              "      <td>-0.114569</td>\n",
              "      <td>-0.191438</td>\n",
              "    </tr>\n",
              "    <tr>\n",
              "      <th>Index2</th>\n",
              "      <td>1.683241</td>\n",
              "      <td>0.801842</td>\n",
              "      <td>-0.993085</td>\n",
              "    </tr>\n",
              "    <tr>\n",
              "      <th>Index3</th>\n",
              "      <td>-0.495235</td>\n",
              "      <td>1.855389</td>\n",
              "      <td>-0.190347</td>\n",
              "    </tr>\n",
              "  </tbody>\n",
              "</table>\n",
              "</div>"
            ],
            "text/plain": [
              "                     C1        C2        C3\n",
              "Group1 Index1 -0.637148 -1.131355 -0.065861\n",
              "       Index2  0.287420  0.423742  0.114334\n",
              "       Index3 -0.323098 -0.568315  0.787315\n",
              "Group2 Index1  1.055753 -0.114569 -0.191438\n",
              "       Index2  1.683241  0.801842 -0.993085\n",
              "       Index3 -0.495235  1.855389 -0.190347"
            ]
          },
          "metadata": {
            "tags": []
          },
          "execution_count": 74
        }
      ]
    },
    {
      "cell_type": "code",
      "metadata": {
        "id": "JiGF_3me0QSW",
        "colab_type": "code",
        "outputId": "883c0cd5-e68f-4796-a294-39acbb4a1f8d",
        "colab": {
          "base_uri": "https://localhost:8080/",
          "height": 35
        }
      },
      "source": [
        "df.loc['Group1'].loc['Index1']['C1']"
      ],
      "execution_count": 0,
      "outputs": [
        {
          "output_type": "execute_result",
          "data": {
            "text/plain": [
              "-0.6371475232849644"
            ]
          },
          "metadata": {
            "tags": []
          },
          "execution_count": 76
        }
      ]
    },
    {
      "cell_type": "code",
      "metadata": {
        "id": "AZ27BByk0gR8",
        "colab_type": "code",
        "outputId": "ef987835-5145-4fc5-a125-09cbbf77b5ed",
        "colab": {
          "base_uri": "https://localhost:8080/",
          "height": 135
        }
      },
      "source": [
        "df.xs('Group1') # df.loc['Group1'] e eşit"
      ],
      "execution_count": 0,
      "outputs": [
        {
          "output_type": "execute_result",
          "data": {
            "text/html": [
              "<div>\n",
              "<style scoped>\n",
              "    .dataframe tbody tr th:only-of-type {\n",
              "        vertical-align: middle;\n",
              "    }\n",
              "\n",
              "    .dataframe tbody tr th {\n",
              "        vertical-align: top;\n",
              "    }\n",
              "\n",
              "    .dataframe thead th {\n",
              "        text-align: right;\n",
              "    }\n",
              "</style>\n",
              "<table border=\"1\" class=\"dataframe\">\n",
              "  <thead>\n",
              "    <tr style=\"text-align: right;\">\n",
              "      <th></th>\n",
              "      <th>C1</th>\n",
              "      <th>C2</th>\n",
              "      <th>C3</th>\n",
              "    </tr>\n",
              "  </thead>\n",
              "  <tbody>\n",
              "    <tr>\n",
              "      <th>Index1</th>\n",
              "      <td>-0.637148</td>\n",
              "      <td>-1.131355</td>\n",
              "      <td>-0.065861</td>\n",
              "    </tr>\n",
              "    <tr>\n",
              "      <th>Index2</th>\n",
              "      <td>0.287420</td>\n",
              "      <td>0.423742</td>\n",
              "      <td>0.114334</td>\n",
              "    </tr>\n",
              "    <tr>\n",
              "      <th>Index3</th>\n",
              "      <td>-0.323098</td>\n",
              "      <td>-0.568315</td>\n",
              "      <td>0.787315</td>\n",
              "    </tr>\n",
              "  </tbody>\n",
              "</table>\n",
              "</div>"
            ],
            "text/plain": [
              "              C1        C2        C3\n",
              "Index1 -0.637148 -1.131355 -0.065861\n",
              "Index2  0.287420  0.423742  0.114334\n",
              "Index3 -0.323098 -0.568315  0.787315"
            ]
          },
          "metadata": {
            "tags": []
          },
          "execution_count": 77
        }
      ]
    },
    {
      "cell_type": "code",
      "metadata": {
        "id": "fiyjkGIF0sm3",
        "colab_type": "code",
        "outputId": "f78293c7-646d-423e-bea8-0dea12e30b6d",
        "colab": {
          "base_uri": "https://localhost:8080/",
          "height": 88
        }
      },
      "source": [
        "df.xs('Group1').xs('Index1')"
      ],
      "execution_count": 0,
      "outputs": [
        {
          "output_type": "execute_result",
          "data": {
            "text/plain": [
              "C1   -0.637148\n",
              "C2   -1.131355\n",
              "C3   -0.065861\n",
              "Name: Index1, dtype: float64"
            ]
          },
          "metadata": {
            "tags": []
          },
          "execution_count": 78
        }
      ]
    },
    {
      "cell_type": "code",
      "metadata": {
        "id": "IAQc2uu-0nMh",
        "colab_type": "code",
        "outputId": "a2ce17b9-017d-4780-ea8f-ccc8518788f8",
        "colab": {
          "base_uri": "https://localhost:8080/",
          "height": 70
        }
      },
      "source": [
        "#BOZUK VE KAYIP VERİLER İLE İŞLEMLER \n",
        "arr = np.array([[10,20,np.nan],[3,np.nan,np.nan],[13,np.nan,4]])\n",
        "print(arr)"
      ],
      "execution_count": 0,
      "outputs": [
        {
          "output_type": "stream",
          "text": [
            "[[10. 20. nan]\n",
            " [ 3. nan nan]\n",
            " [13. nan  4.]]\n"
          ],
          "name": "stdout"
        }
      ]
    },
    {
      "cell_type": "code",
      "metadata": {
        "id": "ZhX-MLB_1oib",
        "colab_type": "code",
        "outputId": "febdcdf2-720f-4487-a8b2-edf6da5f4c81",
        "colab": {
          "base_uri": "https://localhost:8080/",
          "height": 88
        }
      },
      "source": [
        "df = pd.DataFrame(arr ,['Index1','Index2','Index3'],columns = ['Column1','Column2','Column3'] )\n",
        "print(df)"
      ],
      "execution_count": 0,
      "outputs": [
        {
          "output_type": "stream",
          "text": [
            "        Column1  Column2  Column3\n",
            "Index1     10.0     20.0      NaN\n",
            "Index2      3.0      NaN      NaN\n",
            "Index3     13.0      NaN      4.0\n"
          ],
          "name": "stdout"
        }
      ]
    },
    {
      "cell_type": "code",
      "metadata": {
        "id": "k4zUR2ln14qO",
        "colab_type": "code",
        "colab": {}
      },
      "source": [
        "#Satırda en az bir 'NAN' var ise siler\n",
        "df.dropna()"
      ],
      "execution_count": 0,
      "outputs": []
    },
    {
      "cell_type": "code",
      "metadata": {
        "id": "TQOMjlcR2JWw",
        "colab_type": "code",
        "outputId": "089c8223-7b96-4ce5-82f3-ce2f393d174b",
        "colab": {
          "base_uri": "https://localhost:8080/",
          "height": 135
        }
      },
      "source": [
        "# INDEX satırında en az bir NAN var ise siler .\n",
        "df.dropna(axis =1)  \n"
      ],
      "execution_count": 0,
      "outputs": [
        {
          "output_type": "execute_result",
          "data": {
            "text/html": [
              "<div>\n",
              "<style scoped>\n",
              "    .dataframe tbody tr th:only-of-type {\n",
              "        vertical-align: middle;\n",
              "    }\n",
              "\n",
              "    .dataframe tbody tr th {\n",
              "        vertical-align: top;\n",
              "    }\n",
              "\n",
              "    .dataframe thead th {\n",
              "        text-align: right;\n",
              "    }\n",
              "</style>\n",
              "<table border=\"1\" class=\"dataframe\">\n",
              "  <thead>\n",
              "    <tr style=\"text-align: right;\">\n",
              "      <th></th>\n",
              "      <th>Column1</th>\n",
              "    </tr>\n",
              "  </thead>\n",
              "  <tbody>\n",
              "    <tr>\n",
              "      <th>Index1</th>\n",
              "      <td>10.0</td>\n",
              "    </tr>\n",
              "    <tr>\n",
              "      <th>Index2</th>\n",
              "      <td>3.0</td>\n",
              "    </tr>\n",
              "    <tr>\n",
              "      <th>Index3</th>\n",
              "      <td>13.0</td>\n",
              "    </tr>\n",
              "  </tbody>\n",
              "</table>\n",
              "</div>"
            ],
            "text/plain": [
              "        Column1\n",
              "Index1     10.0\n",
              "Index2      3.0\n",
              "Index3     13.0"
            ]
          },
          "metadata": {
            "tags": []
          },
          "execution_count": 89
        }
      ]
    },
    {
      "cell_type": "code",
      "metadata": {
        "id": "-N94rxnv5lFM",
        "colab_type": "code",
        "outputId": "7137a107-960a-4fa9-d16b-6d277fe5b56b",
        "colab": {
          "base_uri": "https://localhost:8080/",
          "height": 106
        }
      },
      "source": [
        "#en az iki düzgün veri var ise silme \n",
        "df.dropna ( thresh=2 ) "
      ],
      "execution_count": 0,
      "outputs": [
        {
          "output_type": "execute_result",
          "data": {
            "text/html": [
              "<div>\n",
              "<style scoped>\n",
              "    .dataframe tbody tr th:only-of-type {\n",
              "        vertical-align: middle;\n",
              "    }\n",
              "\n",
              "    .dataframe tbody tr th {\n",
              "        vertical-align: top;\n",
              "    }\n",
              "\n",
              "    .dataframe thead th {\n",
              "        text-align: right;\n",
              "    }\n",
              "</style>\n",
              "<table border=\"1\" class=\"dataframe\">\n",
              "  <thead>\n",
              "    <tr style=\"text-align: right;\">\n",
              "      <th></th>\n",
              "      <th>Column1</th>\n",
              "      <th>Column2</th>\n",
              "      <th>Column3</th>\n",
              "    </tr>\n",
              "  </thead>\n",
              "  <tbody>\n",
              "    <tr>\n",
              "      <th>Index1</th>\n",
              "      <td>10.0</td>\n",
              "      <td>20.0</td>\n",
              "      <td>NaN</td>\n",
              "    </tr>\n",
              "    <tr>\n",
              "      <th>Index3</th>\n",
              "      <td>13.0</td>\n",
              "      <td>NaN</td>\n",
              "      <td>4.0</td>\n",
              "    </tr>\n",
              "  </tbody>\n",
              "</table>\n",
              "</div>"
            ],
            "text/plain": [
              "        Column1  Column2  Column3\n",
              "Index1     10.0     20.0      NaN\n",
              "Index3     13.0      NaN      4.0"
            ]
          },
          "metadata": {
            "tags": []
          },
          "execution_count": 90
        }
      ]
    },
    {
      "cell_type": "code",
      "metadata": {
        "id": "yVgLN0RW3f6h",
        "colab_type": "code",
        "outputId": "d99a6bd8-4cc5-4485-d770-22730ffd842c",
        "colab": {
          "base_uri": "https://localhost:8080/",
          "height": 135
        }
      },
      "source": [
        "#NAN YERİNE DEĞER ATAMA \n",
        "df.fillna(value = 0)"
      ],
      "execution_count": 0,
      "outputs": [
        {
          "output_type": "execute_result",
          "data": {
            "text/html": [
              "<div>\n",
              "<style scoped>\n",
              "    .dataframe tbody tr th:only-of-type {\n",
              "        vertical-align: middle;\n",
              "    }\n",
              "\n",
              "    .dataframe tbody tr th {\n",
              "        vertical-align: top;\n",
              "    }\n",
              "\n",
              "    .dataframe thead th {\n",
              "        text-align: right;\n",
              "    }\n",
              "</style>\n",
              "<table border=\"1\" class=\"dataframe\">\n",
              "  <thead>\n",
              "    <tr style=\"text-align: right;\">\n",
              "      <th></th>\n",
              "      <th>Column1</th>\n",
              "      <th>Column2</th>\n",
              "      <th>Column3</th>\n",
              "    </tr>\n",
              "  </thead>\n",
              "  <tbody>\n",
              "    <tr>\n",
              "      <th>Index1</th>\n",
              "      <td>10.0</td>\n",
              "      <td>20.0</td>\n",
              "      <td>0.0</td>\n",
              "    </tr>\n",
              "    <tr>\n",
              "      <th>Index2</th>\n",
              "      <td>3.0</td>\n",
              "      <td>0.0</td>\n",
              "      <td>0.0</td>\n",
              "    </tr>\n",
              "    <tr>\n",
              "      <th>Index3</th>\n",
              "      <td>13.0</td>\n",
              "      <td>0.0</td>\n",
              "      <td>4.0</td>\n",
              "    </tr>\n",
              "  </tbody>\n",
              "</table>\n",
              "</div>"
            ],
            "text/plain": [
              "        Column1  Column2  Column3\n",
              "Index1     10.0     20.0      0.0\n",
              "Index2      3.0      0.0      0.0\n",
              "Index3     13.0      0.0      4.0"
            ]
          },
          "metadata": {
            "tags": []
          },
          "execution_count": 91
        }
      ]
    },
    {
      "cell_type": "code",
      "metadata": {
        "id": "n7zECC776NRB",
        "colab_type": "code",
        "outputId": "bd5847fa-1a17-40cc-f4f9-746f57a221c3",
        "colab": {
          "base_uri": "https://localhost:8080/",
          "height": 88
        }
      },
      "source": [
        "#Satırları toplar \n",
        "df.sum() "
      ],
      "execution_count": 0,
      "outputs": [
        {
          "output_type": "execute_result",
          "data": {
            "text/plain": [
              "Column1    26.0\n",
              "Column2    20.0\n",
              "Column3     4.0\n",
              "dtype: float64"
            ]
          },
          "metadata": {
            "tags": []
          },
          "execution_count": 92
        }
      ]
    },
    {
      "cell_type": "code",
      "metadata": {
        "id": "P8G4b4cg7OEb",
        "colab_type": "code",
        "outputId": "f0aa5e57-6d85-4d34-f3ff-ced699983ec1",
        "colab": {
          "base_uri": "https://localhost:8080/",
          "height": 35
        }
      },
      "source": [
        "#Tüm satırların toplamını verir \n",
        "df.sum().sum()"
      ],
      "execution_count": 0,
      "outputs": [
        {
          "output_type": "execute_result",
          "data": {
            "text/plain": [
              "50.0"
            ]
          },
          "metadata": {
            "tags": []
          },
          "execution_count": 93
        }
      ]
    },
    {
      "cell_type": "code",
      "metadata": {
        "id": "_Tf2MseH7HRo",
        "colab_type": "code",
        "outputId": "6bcd20fc-63ec-4ced-f79e-9efa65479b6a",
        "colab": {
          "base_uri": "https://localhost:8080/",
          "height": 35
        }
      },
      "source": [
        "df.size"
      ],
      "execution_count": 0,
      "outputs": [
        {
          "output_type": "execute_result",
          "data": {
            "text/plain": [
              "9"
            ]
          },
          "metadata": {
            "tags": []
          },
          "execution_count": 94
        }
      ]
    },
    {
      "cell_type": "code",
      "metadata": {
        "id": "0B6P4f9L75H7",
        "colab_type": "code",
        "outputId": "ebb858ba-2879-454f-cd0e-29fce34f4c09",
        "colab": {
          "base_uri": "https://localhost:8080/",
          "height": 135
        }
      },
      "source": [
        "#True olan değerler NAN I temsil etmektedir\n",
        "df.isnull()"
      ],
      "execution_count": 0,
      "outputs": [
        {
          "output_type": "execute_result",
          "data": {
            "text/html": [
              "<div>\n",
              "<style scoped>\n",
              "    .dataframe tbody tr th:only-of-type {\n",
              "        vertical-align: middle;\n",
              "    }\n",
              "\n",
              "    .dataframe tbody tr th {\n",
              "        vertical-align: top;\n",
              "    }\n",
              "\n",
              "    .dataframe thead th {\n",
              "        text-align: right;\n",
              "    }\n",
              "</style>\n",
              "<table border=\"1\" class=\"dataframe\">\n",
              "  <thead>\n",
              "    <tr style=\"text-align: right;\">\n",
              "      <th></th>\n",
              "      <th>Column1</th>\n",
              "      <th>Column2</th>\n",
              "      <th>Column3</th>\n",
              "    </tr>\n",
              "  </thead>\n",
              "  <tbody>\n",
              "    <tr>\n",
              "      <th>Index1</th>\n",
              "      <td>False</td>\n",
              "      <td>False</td>\n",
              "      <td>True</td>\n",
              "    </tr>\n",
              "    <tr>\n",
              "      <th>Index2</th>\n",
              "      <td>False</td>\n",
              "      <td>True</td>\n",
              "      <td>True</td>\n",
              "    </tr>\n",
              "    <tr>\n",
              "      <th>Index3</th>\n",
              "      <td>False</td>\n",
              "      <td>True</td>\n",
              "      <td>False</td>\n",
              "    </tr>\n",
              "  </tbody>\n",
              "</table>\n",
              "</div>"
            ],
            "text/plain": [
              "        Column1  Column2  Column3\n",
              "Index1    False    False     True\n",
              "Index2    False     True     True\n",
              "Index3    False     True    False"
            ]
          },
          "metadata": {
            "tags": []
          },
          "execution_count": 96
        }
      ]
    },
    {
      "cell_type": "code",
      "metadata": {
        "id": "7WZLZ_jl8igT",
        "colab_type": "code",
        "outputId": "3723a759-1354-45a9-af5d-52b05bfc71e6",
        "colab": {
          "base_uri": "https://localhost:8080/",
          "height": 88
        }
      },
      "source": [
        "#HANGİ Columda kaç adet NAN var \n",
        "df.isnull().sum()"
      ],
      "execution_count": 0,
      "outputs": [
        {
          "output_type": "execute_result",
          "data": {
            "text/plain": [
              "Column1    0\n",
              "Column2    2\n",
              "Column3    2\n",
              "dtype: int64"
            ]
          },
          "metadata": {
            "tags": []
          },
          "execution_count": 97
        }
      ]
    },
    {
      "cell_type": "code",
      "metadata": {
        "id": "WEjcbjSq80p2",
        "colab_type": "code",
        "outputId": "05ab5d4a-1d73-4dec-86a3-a2f2ff7b2f1e",
        "colab": {
          "base_uri": "https://localhost:8080/",
          "height": 88
        }
      },
      "source": [
        "#HER COLUMDA KAÇ ADET DÜZGÜN VERİ VAR ? \n",
        "df.size - df.isnull().sum()"
      ],
      "execution_count": 0,
      "outputs": [
        {
          "output_type": "execute_result",
          "data": {
            "text/plain": [
              "Column1    9\n",
              "Column2    7\n",
              "Column3    7\n",
              "dtype: int64"
            ]
          },
          "metadata": {
            "tags": []
          },
          "execution_count": 98
        }
      ]
    },
    {
      "cell_type": "code",
      "metadata": {
        "id": "X4g032KY9Bsd",
        "colab_type": "code",
        "colab": {}
      },
      "source": [
        "#GROUP BY OPERASYONLARI \n",
        "data = {'Job': ['Data Mining','CEO','Lawyer','Lawyer','Data Mining','CEO'],'Labouring': ['Immanuel','Jeff','Olivia','Maria','Walker','Obi-Wan'], 'Salary': [4500,30000,6000,5250,5000,35000]}"
      ],
      "execution_count": 0,
      "outputs": []
    },
    {
      "cell_type": "code",
      "metadata": {
        "id": "KoB__Ifx9P81",
        "colab_type": "code",
        "outputId": "e037d40f-63a6-48c8-9f7d-d1612da1da22",
        "colab": {
          "base_uri": "https://localhost:8080/",
          "height": 141
        }
      },
      "source": [
        "df= pd.DataFrame(data)\n",
        "print(df)"
      ],
      "execution_count": 0,
      "outputs": [
        {
          "output_type": "stream",
          "text": [
            "           Job Labouring  Salary\n",
            "0  Data Mining  Immanuel    4500\n",
            "1          CEO      Jeff   30000\n",
            "2       Lawyer    Olivia    6000\n",
            "3       Lawyer     Maria    5250\n",
            "4  Data Mining    Walker    5000\n",
            "5          CEO   Obi-Wan   35000\n"
          ],
          "name": "stdout"
        }
      ]
    },
    {
      "cell_type": "code",
      "metadata": {
        "id": "lDyqAIg19QFD",
        "colab_type": "code",
        "colab": {}
      },
      "source": [
        "#SALARY ÖZELLİĞİNE GÖRE GRUPLANDIRMA \n",
        "SalaryGroupBy= df.groupby('Salary')\n"
      ],
      "execution_count": 0,
      "outputs": []
    },
    {
      "cell_type": "code",
      "metadata": {
        "id": "w7dGzjKw9QCp",
        "colab_type": "code",
        "outputId": "e716a436-f0f0-4054-eed2-4290706c98b3",
        "colab": {
          "base_uri": "https://localhost:8080/",
          "height": 252
        }
      },
      "source": [
        "SalaryGroupBy.sum()"
      ],
      "execution_count": 0,
      "outputs": [
        {
          "output_type": "execute_result",
          "data": {
            "text/html": [
              "<div>\n",
              "<style scoped>\n",
              "    .dataframe tbody tr th:only-of-type {\n",
              "        vertical-align: middle;\n",
              "    }\n",
              "\n",
              "    .dataframe tbody tr th {\n",
              "        vertical-align: top;\n",
              "    }\n",
              "\n",
              "    .dataframe thead th {\n",
              "        text-align: right;\n",
              "    }\n",
              "</style>\n",
              "<table border=\"1\" class=\"dataframe\">\n",
              "  <thead>\n",
              "    <tr style=\"text-align: right;\">\n",
              "      <th></th>\n",
              "      <th>Job</th>\n",
              "      <th>Labouring</th>\n",
              "    </tr>\n",
              "    <tr>\n",
              "      <th>Salary</th>\n",
              "      <th></th>\n",
              "      <th></th>\n",
              "    </tr>\n",
              "  </thead>\n",
              "  <tbody>\n",
              "    <tr>\n",
              "      <th>4500</th>\n",
              "      <td>Data Mining</td>\n",
              "      <td>Immanuel</td>\n",
              "    </tr>\n",
              "    <tr>\n",
              "      <th>5000</th>\n",
              "      <td>Data Mining</td>\n",
              "      <td>Walker</td>\n",
              "    </tr>\n",
              "    <tr>\n",
              "      <th>5250</th>\n",
              "      <td>Lawyer</td>\n",
              "      <td>Maria</td>\n",
              "    </tr>\n",
              "    <tr>\n",
              "      <th>6000</th>\n",
              "      <td>Lawyer</td>\n",
              "      <td>Olivia</td>\n",
              "    </tr>\n",
              "    <tr>\n",
              "      <th>30000</th>\n",
              "      <td>CEO</td>\n",
              "      <td>Jeff</td>\n",
              "    </tr>\n",
              "    <tr>\n",
              "      <th>35000</th>\n",
              "      <td>CEO</td>\n",
              "      <td>Obi-Wan</td>\n",
              "    </tr>\n",
              "  </tbody>\n",
              "</table>\n",
              "</div>"
            ],
            "text/plain": [
              "                Job Labouring\n",
              "Salary                       \n",
              "4500    Data Mining  Immanuel\n",
              "5000    Data Mining    Walker\n",
              "5250         Lawyer     Maria\n",
              "6000         Lawyer    Olivia\n",
              "30000           CEO      Jeff\n",
              "35000           CEO   Obi-Wan"
            ]
          },
          "metadata": {
            "tags": []
          },
          "execution_count": 106
        }
      ]
    },
    {
      "cell_type": "code",
      "metadata": {
        "id": "8QW0ksBK9P_4",
        "colab_type": "code",
        "outputId": "15d42e5b-3791-43c9-dd17-71f25ca1ddb0",
        "colab": {
          "base_uri": "https://localhost:8080/",
          "height": 52
        }
      },
      "source": [
        "#MESLEĞİ CEO OLANLARIN TOPLAMI \n",
        "df.groupby('Job').sum().loc['CEO']"
      ],
      "execution_count": 0,
      "outputs": [
        {
          "output_type": "execute_result",
          "data": {
            "text/plain": [
              "Salary    65000\n",
              "Name: CEO, dtype: int64"
            ]
          },
          "metadata": {
            "tags": []
          },
          "execution_count": 108
        }
      ]
    },
    {
      "cell_type": "code",
      "metadata": {
        "id": "Ocmk-Rh499d1",
        "colab_type": "code",
        "outputId": "2660990f-7b4b-405a-c856-4e040a2a59d1",
        "colab": {
          "base_uri": "https://localhost:8080/",
          "height": 164
        }
      },
      "source": [
        "df.groupby('Job').count()"
      ],
      "execution_count": 0,
      "outputs": [
        {
          "output_type": "execute_result",
          "data": {
            "text/html": [
              "<div>\n",
              "<style scoped>\n",
              "    .dataframe tbody tr th:only-of-type {\n",
              "        vertical-align: middle;\n",
              "    }\n",
              "\n",
              "    .dataframe tbody tr th {\n",
              "        vertical-align: top;\n",
              "    }\n",
              "\n",
              "    .dataframe thead th {\n",
              "        text-align: right;\n",
              "    }\n",
              "</style>\n",
              "<table border=\"1\" class=\"dataframe\">\n",
              "  <thead>\n",
              "    <tr style=\"text-align: right;\">\n",
              "      <th></th>\n",
              "      <th>Labouring</th>\n",
              "      <th>Salary</th>\n",
              "    </tr>\n",
              "    <tr>\n",
              "      <th>Job</th>\n",
              "      <th></th>\n",
              "      <th></th>\n",
              "    </tr>\n",
              "  </thead>\n",
              "  <tbody>\n",
              "    <tr>\n",
              "      <th>CEO</th>\n",
              "      <td>2</td>\n",
              "      <td>2</td>\n",
              "    </tr>\n",
              "    <tr>\n",
              "      <th>Data Mining</th>\n",
              "      <td>2</td>\n",
              "      <td>2</td>\n",
              "    </tr>\n",
              "    <tr>\n",
              "      <th>Lawyer</th>\n",
              "      <td>2</td>\n",
              "      <td>2</td>\n",
              "    </tr>\n",
              "  </tbody>\n",
              "</table>\n",
              "</div>"
            ],
            "text/plain": [
              "             Labouring  Salary\n",
              "Job                           \n",
              "CEO                  2       2\n",
              "Data Mining          2       2\n",
              "Lawyer               2       2"
            ]
          },
          "metadata": {
            "tags": []
          },
          "execution_count": 109
        }
      ]
    },
    {
      "cell_type": "code",
      "metadata": {
        "id": "_cN5tnyH-s4l",
        "colab_type": "code",
        "outputId": "669e6a3b-f2ec-4ecc-a832-15d86b22489c",
        "colab": {
          "base_uri": "https://localhost:8080/",
          "height": 106
        }
      },
      "source": [
        "#SALARY E GÖRE GRUPTLANDIRIP EN DÜŞÜK  MAAŞI BASTIRDIK\n",
        "df.groupby('Job').min()['Salary']"
      ],
      "execution_count": 0,
      "outputs": [
        {
          "output_type": "execute_result",
          "data": {
            "text/plain": [
              "Job\n",
              "CEO            30000\n",
              "Data Mining     4500\n",
              "Lawyer          5250\n",
              "Name: Salary, dtype: int64"
            ]
          },
          "metadata": {
            "tags": []
          },
          "execution_count": 111
        }
      ]
    },
    {
      "cell_type": "code",
      "metadata": {
        "id": "NlBZDxd2-Kks",
        "colab_type": "code",
        "outputId": "3528d5c1-8305-450a-9d83-4b1dd02011ca",
        "colab": {
          "base_uri": "https://localhost:8080/",
          "height": 35
        }
      },
      "source": [
        "#EN DÜŞÜK MAAŞLI AVUKATIN MAAŞINI BASTIRDIK\n",
        "df.groupby('Job').min()['Salary']['Lawyer']"
      ],
      "execution_count": 0,
      "outputs": [
        {
          "output_type": "execute_result",
          "data": {
            "text/plain": [
              "5250"
            ]
          },
          "metadata": {
            "tags": []
          },
          "execution_count": 110
        }
      ]
    },
    {
      "cell_type": "code",
      "metadata": {
        "id": "iv5gLqlf-T-_",
        "colab_type": "code",
        "colab": {}
      },
      "source": [
        ""
      ],
      "execution_count": 0,
      "outputs": []
    }
  ]
}